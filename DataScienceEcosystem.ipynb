{
 "cells": [
  {
   "cell_type": "markdown",
   "id": "b3cf134d-195c-4099-a79e-1d847f39145f",
   "metadata": {},
   "source": [
    "# Data Science Tools and Ecosystem"
   ]
  },
  {
   "cell_type": "markdown",
   "id": "22a16c03-30fb-4920-a4f0-b6a22f3dde04",
   "metadata": {},
   "source": [
    "This notebook summerizes Data Science Tools and Ecosystem"
   ]
  },
  {
   "cell_type": "markdown",
   "id": "3b0a5ae6-dd22-4c5b-98d4-68757e31d009",
   "metadata": {},
   "source": [
    "**Objectives**\n",
    "+ List of popular languages that Data Scientists use.\n",
    "+ List of commonly used libraries used by Data Scientists\n",
    "+ Simple arathmetic expression to multiply then add integers\n",
    "+ converting 200 minutes to hours"
   ]
  },
  {
   "cell_type": "markdown",
   "id": "db64c83b-e548-4543-bf48-d3bb368d30da",
   "metadata": {},
   "source": [
    "Some of the popular lanuages that Data Scientists use are:\n",
    "1. Python\n",
    "2. R\n",
    "3. SQL\n",
    "4. Java"
   ]
  },
  {
   "cell_type": "markdown",
   "id": "85800c3f-45a4-492a-bb0f-e38eb2097fa9",
   "metadata": {},
   "source": [
    "Some commonly used libraries used by Data Scientists include:\n",
    "1. Pandas\n",
    "2. NumPy\n",
    "3. TensorFlow\n",
    "4. Scikit-learn"
   ]
  },
  {
   "cell_type": "markdown",
   "id": "2fa11e91-41bc-4624-a0ce-6391a3fc0bf9",
   "metadata": {},
   "source": [
    "| Data Science Tools |\n",
    "| -------|\n",
    "| JupyterLab |\n",
    "| RStudio |\n",
    "| GitHub |"
   ]
  },
  {
   "cell_type": "markdown",
   "id": "4168645c-347b-404f-ba39-7594e3f1e52a",
   "metadata": {},
   "source": [
    "### Below are some few examples of evaluating arathmetic expressions in Python"
   ]
  },
  {
   "cell_type": "code",
   "execution_count": 3,
   "id": "e5b208fd-67ad-465a-b039-67e279367e68",
   "metadata": {},
   "outputs": [
    {
     "data": {
      "text/plain": [
       "17"
      ]
     },
     "execution_count": 3,
     "metadata": {},
     "output_type": "execute_result"
    }
   ],
   "source": [
    "#this is a simple arathmetic expression to multiply the add integers\n",
    "(3*4)+5"
   ]
  },
  {
   "cell_type": "code",
   "execution_count": 4,
   "id": "a4fe9232-f2e2-4d30-9994-21b7e3775932",
   "metadata": {},
   "outputs": [
    {
     "data": {
      "text/plain": [
       "3.3333333333333335"
      ]
     },
     "execution_count": 4,
     "metadata": {},
     "output_type": "execute_result"
    }
   ],
   "source": [
    "#converting 200 minutes to hours by dividing by 60\n",
    "200/60"
   ]
  },
  {
   "cell_type": "markdown",
   "id": "f56b8730-54cc-4b27-ae60-fbe68f2cba1f",
   "metadata": {},
   "source": [
    "## Author\n",
    "Matome Gladious Leboho"
   ]
  }
 ],
 "metadata": {
  "kernelspec": {
   "display_name": "Python 3 (ipykernel)",
   "language": "python",
   "name": "python3"
  },
  "language_info": {
   "codemirror_mode": {
    "name": "ipython",
    "version": 3
   },
   "file_extension": ".py",
   "mimetype": "text/x-python",
   "name": "python",
   "nbconvert_exporter": "python",
   "pygments_lexer": "ipython3",
   "version": "3.11.7"
  }
 },
 "nbformat": 4,
 "nbformat_minor": 5
}
